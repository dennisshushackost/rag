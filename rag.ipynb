{
 "cells": [
  {
   "cell_type": "markdown",
   "metadata": {},
   "source": [
    "# RAG Pipepline from Scratch \n",
    "\n",
    "RAG (Retrieval Augmented Generation) has to goal to take information and pass it to a Large Language Model (LLM) so it can generate outputs based on that information. \n",
    "\n",
    "* **Retrieval**: Find relevant information given a user query. I.e. What are the macronutrients and what do they do -> Retrives any passages of text related to the macronutrients from a nutritien textbook. \n",
    "* **Augmented**: We want to take the relevant information from our data and then augment our imput (prompt) to an LLM with that relevant information. \n",
    "* **Generation**: Take the first two stepes and pass them to an LLM for a good output. \n",
    "\n",
    "Why RAG? \n",
    "The main goal of RAG is to improve the generation output of LLMs.\n",
    "1. Prevent Hallucinations - LLMs are good at generating good looking text, however it may not be factual.\n",
    "RAG can help LLMs create text based on text that is factual. \n",
    "2. Many LLMs are trained on internet data, as such they have a good understanding of language. RAG allows us to use custom data. We can use customer support Q&A for chatting. We can retrieve relevant snippets of text for example. We can retrieve the snippets and then use an LLM to craft an answer from these snippets. \n",
    "3. Why run it locally. We do not have to wait for any transfers. Cost is another big factor. If we own our own hardware, we can save on large amounts of costs. Furthermore, there is no vendor locking, when we run our own software, hardware. If OpenAI or another large internet company shuts down, we can still run the buisness. Privacy - Id you have documentation, maybe you do not want to send it to an API. You want to setup an LLM and run it on your own hardware."
   ]
  },
  {
   "cell_type": "markdown",
   "metadata": {},
   "source": [
    "## What are we going to build?\n",
    "https://whimsical.com/simple-local-rag-workflow-39kToR3yNf7E8kY4sS2tjV\n",
    "\n",
    "1. Open a pdf document.\n",
    "2. Format the text of the PDF textbook ready for an embedding model.\n",
    "3. Embed all the chunk of text in the textbook and turn them into numerical representations (embedding) which can store for later. \n",
    "4. Build retrieval system that uses vector search to find the relevant chunks of text based on query. \n",
    "5. Create a prompt that incorperates the retrieved prieces of text. \n",
    "6. Generate the answer to a query based on the passages based on the passages of the textbook with an LLM.\n"
   ]
  },
  {
   "cell_type": "markdown",
   "metadata": {},
   "source": [
    "## 1. Document pre-processing and embedding creation \n",
    "\n",
    "Ingridients: PDF document of choice (could be any kind of document.) and an embedding model of choice. \n",
    "1. Import PDF document\n",
    "2. Process text for embedding (splitting into chunks of sentences)\n",
    "3. Embedd textchunks with embedding model.\n",
    "4. Save embedding to file for later (embeddings will store on file for many years until you loose them on hd)."
   ]
  },
  {
   "cell_type": "code",
   "execution_count": 20,
   "metadata": {},
   "outputs": [
    {
     "name": "stdout",
     "output_type": "stream",
     "text": [
      "[INFO] The file already exists\n"
     ]
    }
   ],
   "source": [
    "# Programatically get the pdf document \n",
    "import os \n",
    "import requests \n",
    "\n",
    "# Get PDF document:\n",
    "pdf_path = \"./data/human-nutrition-text.pdf\"\n",
    "\n",
    "# Download the PDF:\n",
    "if not os.path.exists(pdf_path):\n",
    "    print(\"[INFO] File does not exist, downloading....\")\n",
    "\n",
    "    # Enter the URL of the PDF: \n",
    "    url = \"https://pressbooks.oer.hawaii.edu/humannutrition2/open/download?type=pdf\"\n",
    "\n",
    "    # Local Filename to save the file:\n",
    "    filename = pdf_path\n",
    "\n",
    "    # Send a GET request:\n",
    "    response = requests.get(url=url)\n",
    "\n",
    "    # Check if the request was successfull:\n",
    "    if response.status_code == 200:\n",
    "        # Open file and save it (wb = write binary)\n",
    "        with open(filename, \"wb\") as file:\n",
    "            file.write(response.content)\n",
    "        print(f\"[INFO] The file has been downloaded and saved as {filename}\")\n",
    "    else:\n",
    "        print(f\"[INFO] Failed to download the file. Status code: {response.status_code}\")\n",
    "else:\n",
    "    print(f\"[INFO] The file already exists\")\n"
   ]
  },
  {
   "cell_type": "markdown",
   "metadata": {},
   "source": [
    "We got a PDF as such we can open it. We can use PyMUPDF which seems to be the best for PDF reading with the best Text formatting."
   ]
  },
  {
   "cell_type": "code",
   "execution_count": 24,
   "metadata": {},
   "outputs": [
    {
     "data": {
      "application/vnd.jupyter.widget-view+json": {
       "model_id": "6917358a37434077a5603778b4f003d5",
       "version_major": 2,
       "version_minor": 0
      },
      "text/plain": [
       "0it [00:00, ?it/s]"
      ]
     },
     "metadata": {},
     "output_type": "display_data"
    },
    {
     "data": {
      "text/plain": [
       "[{'page_number': 6,\n",
       "  'page_char_count': 998,\n",
       "  'page_word_count': 152,\n",
       "  'page_sentence_count_raw': 0,\n",
       "  'page_token_count': 249,\n",
       "  'text': 'The Cardiovascular System 82 University of Hawai‘i at Mānoa Food Science and Human Nutrition Program and Human Nutrition Program Central Nervous System 94 University of Hawai‘i at Mānoa Food Science and Human Nutrition Program and Human Nutrition Program The Respiratory System 99 University of Hawai‘i at Mānoa Food Science and Human Nutrition Program and Human Nutrition Program The Endocrine System 106 University of Hawai‘i at Mānoa Food Science and Human Nutrition Program and Human Nutrition Program The Urinary System 110 University of Hawai‘i at Mānoa Food Science and Human Nutrition Program and Human Nutrition Program The Muscular System 117 University of Hawai‘i at Mānoa Food Science and Human Nutrition Program and Human Nutrition Program The Skeletal System 120 University of Hawai‘i at Mānoa Food Science and Human Nutrition Program and Human Nutrition Program The Immune System 129 University of Hawai‘i at Mānoa Food Science and Human Nutrition Program and Human Nutrition Program'},\n",
       " {'page_number': 7,\n",
       "  'page_char_count': 1011,\n",
       "  'page_word_count': 152,\n",
       "  'page_sentence_count_raw': 2,\n",
       "  'page_token_count': 252,\n",
       "  'text': 'Indicators of Health: Body Mass Index, Body Fat 133 Content, and Fat Distribution University of Hawai‘i at Mānoa Food Science and Human Nutrition Program and Human Nutrition Program Part III. Chapter 3. Water and Electrolytes Introduction 145 University of Hawai‘i at Mānoa Food Science and Human Nutrition Program and Human Nutrition Program Overview of Fluid and Electrolyte Balance 150 University of Hawai‘i at Mānoa Food Science and Human Nutrition Program and Human Nutrition Program Water’s Importance to Vitality 156 University of Hawai‘i at Mānoa Food Science and Human Nutrition Program and Human Nutrition Program Regulation of Water Balance 162 University of Hawai‘i at Mānoa Food Science and Human Nutrition Program and Human Nutrition Program Electrolytes Important for Fluid Balance 172 University of Hawai‘i at Mānoa Food Science and Human Nutrition Program and Human Nutrition Program Sodium 176 University of Hawai‘i at Mānoa Food Science and Human Nutrition Program and Human Nutrition Program'},\n",
       " {'page_number': 8,\n",
       "  'page_char_count': 912,\n",
       "  'page_word_count': 135,\n",
       "  'page_sentence_count_raw': 2,\n",
       "  'page_token_count': 228,\n",
       "  'text': 'Chloride 190 University of Hawai‘i at Mānoa Food Science and Human Nutrition Program and Human Nutrition Program Potassium 195 University of Hawai‘i at Mānoa Food Science and Human Nutrition Program and Human Nutrition Program Consequences of Deficiency or Excess 199 University of Hawai‘i at Mānoa Food Science and Human Nutrition Program and Human Nutrition Program Water Concerns 209 University of Hawai‘i at Mānoa Food Science and Human Nutrition Program and Human Nutrition Program Popular Beverage Choices 216 University of Hawai‘i at Mānoa Food Science and Human Nutrition Program and Human Nutrition Program Part IV. Chapter 4. Carbohydrates Introduction 229 University of Hawai‘i at Mānoa Food Science and Human Nutrition Program and Human Nutrition Program Digestion and Absorption of Carbohydrates 240 University of Hawai‘i at Mānoa Food Science and Human Nutrition Program and Human Nutrition Program'},\n",
       " {'page_number': 9,\n",
       "  'page_char_count': 989,\n",
       "  'page_word_count': 154,\n",
       "  'page_sentence_count_raw': 2,\n",
       "  'page_token_count': 247,\n",
       "  'text': 'The Functions of Carbohydrates in the Body 253 University of Hawai‘i at Mānoa Food Science and Human Nutrition Program and Human Nutrition Program Health Consequences and Benefits of High- 260 Carbohydrate Diets University of Hawai‘i at Mānoa Food Science and Human Nutrition Program and Human Nutrition Program Carbohydrates and Personal Diet Choices 271 University of Hawai‘i at Mānoa Food Science and Human Nutrition Program and Human Nutrition Program Part V. Chapter 5. Lipids Introduction 291 University of Hawai‘i at Mānoa Food Science and Human Nutrition Program and Human Nutrition Program The Functions of Lipids in the Body 296 University of Hawai‘i at Mānoa Food Science and Human Nutrition Program and Human Nutrition Program The Role of Lipids in Food 301 University of Hawai‘i at Mānoa Food Science and Human Nutrition Program and Human Nutrition Program How Lipids Work 305 University of Hawai‘i at Mānoa Food Science and Human Nutrition Program and Human Nutrition Program'}]"
      ]
     },
     "execution_count": 24,
     "metadata": {},
     "output_type": "execute_result"
    }
   ],
   "source": [
    "import pdfplumber\n",
    "from tqdm.auto import tqdm\n",
    "\n",
    "def text_formatter(text: str) -> str:\n",
    "    \"\"\"Performs basic formatting on text.\"\"\"\n",
    "    # Replace newlines and tabs with spaces\n",
    "    text = text.replace('\\n', ' ').replace('\\t', ' ')\n",
    "    \n",
    "    # Strip leading/trailing whitespace\n",
    "    text = text.strip()\n",
    "    \n",
    "    return text\n",
    "\n",
    "def open_and_read_pdf(pdf_path: str) -> list[dict]:\n",
    "    \"\"\"\n",
    "    Opens a PDF file, reads its text content page by page, and collects statistics.\n",
    "    \"\"\"\n",
    "    reader = pdfplumber.open(pdf_path)\n",
    "    pages_and_texts = []\n",
    "    for page_number, page in tqdm(enumerate(reader.pages)):\n",
    "        text = page.extract_text()\n",
    "        text = text_formatter(text)\n",
    "        \n",
    "        pages_and_texts.append({\n",
    "            \"page_number\": page_number,\n",
    "            \"page_char_count\": len(text),\n",
    "            \"page_word_count\": len(text.split()),\n",
    "            \"page_sentence_count_raw\": text.count('.') + text.count('!') + text.count('?'),\n",
    "            \"page_token_count\": len(text) // 4,\n",
    "            \"text\": text\n",
    "        })\n",
    "    return pages_and_texts\n",
    "\n",
    "pages_and_texts = open_and_read_pdf(pdf_path=pdf_path)\n",
    "pages_and_texts[6:10]"
   ]
  },
  {
   "cell_type": "code",
   "execution_count": null,
   "metadata": {},
   "outputs": [],
   "source": []
  },
  {
   "cell_type": "code",
   "execution_count": null,
   "metadata": {},
   "outputs": [],
   "source": []
  }
 ],
 "metadata": {
  "kernelspec": {
   "display_name": ".venv",
   "language": "python",
   "name": "python3"
  },
  "language_info": {
   "codemirror_mode": {
    "name": "ipython",
    "version": 3
   },
   "file_extension": ".py",
   "mimetype": "text/x-python",
   "name": "python",
   "nbconvert_exporter": "python",
   "pygments_lexer": "ipython3",
   "version": "3.9.6"
  }
 },
 "nbformat": 4,
 "nbformat_minor": 2
}
